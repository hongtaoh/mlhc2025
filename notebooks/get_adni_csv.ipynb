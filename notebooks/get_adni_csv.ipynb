{
 "cells": [
  {
   "cell_type": "markdown",
   "metadata": {},
   "source": [
    "This is because I have to create `adni.csv` here rather than getting it from the raw `ADNIMERGE.csv` in `run_adni.py`. Why? Because even if I do that, I do not know how to access the created `adni.csv`. "
   ]
  },
  {
   "cell_type": "code",
   "execution_count": 17,
   "metadata": {},
   "outputs": [],
   "source": [
    "import os\n",
    "import sys\n",
    "\n",
    "# Get current working directory (where notebook is run)\n",
    "current_dir = os.getcwd()\n",
    "\n",
    "# Move two levels up\n",
    "parent_dir = os.path.abspath(os.path.join(current_dir, '..'))\n",
    "\n",
    "# Add to sys.path if not already there\n",
    "if parent_dir not in sys.path:\n",
    "    sys.path.append(parent_dir)\n",
    "\n",
    "# Now import your module\n",
    "import utils_adni"
   ]
  },
  {
   "cell_type": "code",
   "execution_count": 18,
   "metadata": {},
   "outputs": [],
   "source": [
    "meta_data = ['PTID', 'DX_bl', 'VISCODE', 'COLPROT']\n",
    "\n",
    "select_biomarkers = ['MMSE_bl', 'Ventricles_bl', 'WholeBrain_bl', \n",
    "            'MidTemp_bl', 'Fusiform_bl', 'Entorhinal_bl', \n",
    "            'Hippocampus_bl', 'ADAS13_bl', 'PTAU_bl', \n",
    "            'TAU_bl', 'ABETA_bl', 'RAVLT_immediate_bl'\n",
    "]\n",
    "\n",
    "diagnosis_list = ['CN', 'EMCI', 'LMCI', 'AD']\n",
    "\n",
    "OUTPUT_DIR = parent_dir\n",
    "\n",
    "raw = f'{OUTPUT_DIR}/ADNIMERGE.csv'"
   ]
  },
  {
   "cell_type": "code",
   "execution_count": 19,
   "metadata": {},
   "outputs": [
    {
     "name": "stdout",
     "output_type": "stream",
     "text": [
      "726\n",
      "No duplicates!\n",
      "AD: 153 (21.1%)\n",
      "LMCI: 236 (32.5%)\n",
      "CN: 155 (21.3%)\n",
      "EMCI: 182 (25.1%)\n",
      "----------------------------------------------------\n",
      "ADNI1: 275 (37.9%)\n",
      "ADNI2: 375 (51.7%)\n",
      "ADNIGO: 76 (10.5%)\n"
     ]
    },
    {
     "data": {
      "text/html": [
       "<div>\n",
       "<style scoped>\n",
       "    .dataframe tbody tr th:only-of-type {\n",
       "        vertical-align: middle;\n",
       "    }\n",
       "\n",
       "    .dataframe tbody tr th {\n",
       "        vertical-align: top;\n",
       "    }\n",
       "\n",
       "    .dataframe thead th {\n",
       "        text-align: right;\n",
       "    }\n",
       "</style>\n",
       "<table border=\"1\" class=\"dataframe\">\n",
       "  <thead>\n",
       "    <tr style=\"text-align: right;\">\n",
       "      <th></th>\n",
       "      <th>participant</th>\n",
       "      <th>diseased</th>\n",
       "      <th>biomarker</th>\n",
       "      <th>measurement</th>\n",
       "    </tr>\n",
       "  </thead>\n",
       "  <tbody>\n",
       "    <tr>\n",
       "      <th>0</th>\n",
       "      <td>0</td>\n",
       "      <td>True</td>\n",
       "      <td>ADAS13</td>\n",
       "      <td>31.00</td>\n",
       "    </tr>\n",
       "    <tr>\n",
       "      <th>1</th>\n",
       "      <td>1</td>\n",
       "      <td>True</td>\n",
       "      <td>ADAS13</td>\n",
       "      <td>21.33</td>\n",
       "    </tr>\n",
       "    <tr>\n",
       "      <th>2</th>\n",
       "      <td>2</td>\n",
       "      <td>False</td>\n",
       "      <td>ADAS13</td>\n",
       "      <td>14.67</td>\n",
       "    </tr>\n",
       "    <tr>\n",
       "      <th>3</th>\n",
       "      <td>3</td>\n",
       "      <td>True</td>\n",
       "      <td>ADAS13</td>\n",
       "      <td>24.33</td>\n",
       "    </tr>\n",
       "    <tr>\n",
       "      <th>4</th>\n",
       "      <td>4</td>\n",
       "      <td>False</td>\n",
       "      <td>ADAS13</td>\n",
       "      <td>8.33</td>\n",
       "    </tr>\n",
       "  </tbody>\n",
       "</table>\n",
       "</div>"
      ],
      "text/plain": [
       "   participant  diseased biomarker  measurement\n",
       "0            0      True    ADAS13        31.00\n",
       "1            1      True    ADAS13        21.33\n",
       "2            2     False    ADAS13        14.67\n",
       "3            3      True    ADAS13        24.33\n",
       "4            4     False    ADAS13         8.33"
      ]
     },
     "execution_count": 19,
     "metadata": {},
     "output_type": "execute_result"
    }
   ],
   "source": [
    "adni_filtered = utils_adni.get_adni_filtered(raw, meta_data, select_biomarkers, diagnosis_list)\n",
    "debm_output, data_matrix, data_we_have, participant_dx_dict, ordered_biomarkers = utils_adni.process_data(\n",
    "    adni_filtered, ventricles_log=False, tau_log=False)\n",
    "data_we_have.head()"
   ]
  },
  {
   "cell_type": "code",
   "execution_count": 20,
   "metadata": {},
   "outputs": [
    {
     "data": {
      "text/plain": [
       "0.7865013774104683"
      ]
     },
     "execution_count": 20,
     "metadata": {},
     "output_type": "execute_result"
    }
   ],
   "source": [
    "sum(data_we_have.diseased)/len(data_we_have)"
   ]
  },
  {
   "cell_type": "code",
   "execution_count": 21,
   "metadata": {},
   "outputs": [],
   "source": [
    "data_we_have.to_csv(f\"{OUTPUT_DIR}/adni.csv\", index=False)"
   ]
  },
  {
   "cell_type": "code",
   "execution_count": 22,
   "metadata": {},
   "outputs": [
    {
     "name": "stdout",
     "output_type": "stream",
     "text": [
      "726\n",
      "No duplicates!\n",
      "AD: 153 (21.1%)\n",
      "LMCI: 236 (32.5%)\n",
      "CN: 155 (21.3%)\n",
      "EMCI: 182 (25.1%)\n",
      "----------------------------------------------------\n",
      "ADNI1: 275 (37.9%)\n",
      "ADNI2: 375 (51.7%)\n",
      "ADNIGO: 76 (10.5%)\n"
     ]
    },
    {
     "data": {
      "text/html": [
       "<div>\n",
       "<style scoped>\n",
       "    .dataframe tbody tr th:only-of-type {\n",
       "        vertical-align: middle;\n",
       "    }\n",
       "\n",
       "    .dataframe tbody tr th {\n",
       "        vertical-align: top;\n",
       "    }\n",
       "\n",
       "    .dataframe thead th {\n",
       "        text-align: right;\n",
       "    }\n",
       "</style>\n",
       "<table border=\"1\" class=\"dataframe\">\n",
       "  <thead>\n",
       "    <tr style=\"text-align: right;\">\n",
       "      <th></th>\n",
       "      <th>participant</th>\n",
       "      <th>diseased</th>\n",
       "      <th>biomarker</th>\n",
       "      <th>measurement</th>\n",
       "    </tr>\n",
       "  </thead>\n",
       "  <tbody>\n",
       "    <tr>\n",
       "      <th>0</th>\n",
       "      <td>0</td>\n",
       "      <td>True</td>\n",
       "      <td>ADAS13</td>\n",
       "      <td>31.00</td>\n",
       "    </tr>\n",
       "    <tr>\n",
       "      <th>1</th>\n",
       "      <td>1</td>\n",
       "      <td>True</td>\n",
       "      <td>ADAS13</td>\n",
       "      <td>21.33</td>\n",
       "    </tr>\n",
       "    <tr>\n",
       "      <th>2</th>\n",
       "      <td>2</td>\n",
       "      <td>False</td>\n",
       "      <td>ADAS13</td>\n",
       "      <td>14.67</td>\n",
       "    </tr>\n",
       "    <tr>\n",
       "      <th>3</th>\n",
       "      <td>3</td>\n",
       "      <td>True</td>\n",
       "      <td>ADAS13</td>\n",
       "      <td>24.33</td>\n",
       "    </tr>\n",
       "    <tr>\n",
       "      <th>4</th>\n",
       "      <td>4</td>\n",
       "      <td>False</td>\n",
       "      <td>ADAS13</td>\n",
       "      <td>8.33</td>\n",
       "    </tr>\n",
       "  </tbody>\n",
       "</table>\n",
       "</div>"
      ],
      "text/plain": [
       "   participant  diseased biomarker  measurement\n",
       "0            0      True    ADAS13        31.00\n",
       "1            1      True    ADAS13        21.33\n",
       "2            2     False    ADAS13        14.67\n",
       "3            3      True    ADAS13        24.33\n",
       "4            4     False    ADAS13         8.33"
      ]
     },
     "execution_count": 22,
     "metadata": {},
     "output_type": "execute_result"
    }
   ],
   "source": [
    "adni_filtered = utils_adni.get_adni_filtered(raw, meta_data, select_biomarkers, diagnosis_list)\n",
    "debm_output, data_matrix, data_we_have, participant_dx_dict, ordered_biomarkers = utils_adni.process_data(\n",
    "    adni_filtered, ventricles_log=False, tau_log=True)\n",
    "data_we_have.head()"
   ]
  },
  {
   "cell_type": "code",
   "execution_count": 23,
   "metadata": {},
   "outputs": [],
   "source": [
    "data_we_have.to_csv(f\"{OUTPUT_DIR}/adni_log.csv\", index=False)"
   ]
  }
 ],
 "metadata": {
  "kernelspec": {
   "display_name": "mlhc",
   "language": "python",
   "name": "python3"
  },
  "language_info": {
   "codemirror_mode": {
    "name": "ipython",
    "version": 3
   },
   "file_extension": ".py",
   "mimetype": "text/x-python",
   "name": "python",
   "nbconvert_exporter": "python",
   "pygments_lexer": "ipython3",
   "version": "3.13.3"
  }
 },
 "nbformat": 4,
 "nbformat_minor": 2
}
